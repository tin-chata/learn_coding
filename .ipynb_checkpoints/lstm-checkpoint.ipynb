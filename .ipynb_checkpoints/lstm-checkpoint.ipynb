{
 "cells": [
  {
   "cell_type": "markdown",
   "metadata": {},
   "source": [
    "# LSTM from Scratch"
   ]
  },
  {
   "cell_type": "code",
   "execution_count": 1,
   "metadata": {},
   "outputs": [],
   "source": [
    "import numpy as np\n",
    "import torch\n",
    "import torch.nn as nn\n",
    "from torch.nn import Parameter\n",
    "import torch.optim as optim\n",
    "from typing import *\n",
    "from pathlib import Path\n",
    "from enum import IntEnum"
   ]
  },
  {
   "cell_type": "markdown",
   "metadata": {},
   "source": [
    "## NN Builder"
   ]
  },
  {
   "cell_type": "code",
   "execution_count": 2,
   "metadata": {},
   "outputs": [],
   "source": [
    "class Dim(IntEnum):\n",
    "    batch = 0\n",
    "    seq = 1\n",
    "    feature = 2"
   ]
  },
  {
   "cell_type": "code",
   "execution_count": 3,
   "metadata": {},
   "outputs": [],
   "source": [
    "class SimpleRNN(nn.Module):\n",
    "    def __init__(self, input_sz: int, hidden_sz: int):\n",
    "        super().__init__()\n",
    "        self.input_sz, self.hidden_size = input_sz, hidden_sz\n",
    "        self.weight_ih = Parameter(torch.Tensor(input_sz, hidden_sz))\n",
    "        self.weight_hh = Parameter(torch.Tensor(hidden_sz, hidden_sz))\n",
    "        self.bias_hh = Parameter(torch.Tensor(hidden_sz))\n",
    "        \n",
    "        self.init_weights()\n",
    "\n",
    "    def init_weights(self):\n",
    "        nn.init.xavier_uniform_(self.weight_ih)\n",
    "        nn.init.xavier_uniform_(self.weight_hh)\n",
    "        nn.init.zeros_(self.bias_hh)\n",
    "    \n",
    "    def forward(self, x: torch.Tensor, init_state=None) -> torch.Tensor:\n",
    "        # x: (batch, sequence, feature)\n",
    "        bs, seq_sz, _ = x.size()\n",
    "        hidden_seq = []\n",
    "        if init_state is None:\n",
    "            h_t = torch.zeros(self.hidden_size).to(x.device)\n",
    "        else:\n",
    "            h_t = init_state\n",
    "\n",
    "        for t in range(seq_sz):\n",
    "            x_t = x[:, t, :]\n",
    "            h_t = torch.tanh(x_t @ self.weight_ih + h_t @ self.weight_hh + self.bias_hh)\n",
    "            hidden_seq.append(h_t.unsqueeze(Dim.batch))\n",
    "        hidden_seq = torch.cat(hidden_seq, dim=Dim.batch)\n",
    "        # reshape from shape (sequence, batch, feature) to (batch, sequence, feature)\n",
    "        hidden_seq = hidden_seq.transpose(Dim.batch, Dim.seq).contiguous()\n",
    "        return hidden_seq, h_t"
   ]
  },
  {
   "cell_type": "code",
   "execution_count": 4,
   "metadata": {},
   "outputs": [
    {
     "data": {
      "text/plain": [
       "torch.Size([5, 10, 16])"
      ]
     },
     "execution_count": 4,
     "metadata": {},
     "output_type": "execute_result"
    }
   ],
   "source": [
    "# Double Checking\n",
    "bs, seq_len, feat_sz, hidden_sz = 5, 10, 32, 16\n",
    "arr = torch.randn(bs, seq_len, feat_sz)\n",
    "lstm = SimpleRNN(feat_sz, hidden_sz)\n",
    "hs, hn = lstm(arr)\n",
    "hs.shape"
   ]
  },
  {
   "cell_type": "code",
   "execution_count": 5,
   "metadata": {},
   "outputs": [],
   "source": [
    "class NaiveLSTM(nn.Module):\n",
    "    def __init__(self, input_sz: int, hidden_sz: int):\n",
    "        super().__init__()\n",
    "        self.input_size = input_sz\n",
    "        self.hidden_size = hidden_sz\n",
    "        # input gate\n",
    "        self.W_ii = Parameter(torch.Tensor(input_sz, hidden_sz))\n",
    "        self.W_hi = Parameter(torch.Tensor(hidden_sz, hidden_sz))\n",
    "        self.b_i = Parameter(torch.Tensor(hidden_sz))\n",
    "        # forget gate\n",
    "        self.W_if = Parameter(torch.Tensor(input_sz, hidden_sz))\n",
    "        self.W_hf = Parameter(torch.Tensor(hidden_sz, hidden_sz))\n",
    "        self.b_f = Parameter(torch.Tensor(hidden_sz))\n",
    "        # reset gate\n",
    "        self.W_ig = Parameter(torch.Tensor(input_sz, hidden_sz))\n",
    "        self.W_hg = Parameter(torch.Tensor(hidden_sz, hidden_sz))\n",
    "        self.b_g = Parameter(torch.Tensor(hidden_sz))\n",
    "        # output gate\n",
    "        self.W_io = Parameter(torch.Tensor(input_sz, hidden_sz))\n",
    "        self.W_ho = Parameter(torch.Tensor(hidden_sz, hidden_sz))\n",
    "        self.b_o = Parameter(torch.Tensor(hidden_sz))\n",
    "        \n",
    "        self.init_weights()\n",
    "    \n",
    "    def init_weights(self):\n",
    "        for p in self.parameters():\n",
    "            if p.data.ndimension() >= 2:\n",
    "                nn.init.xavier_uniform_(p.data)\n",
    "            else:\n",
    "                nn.init.zeros_(p.data)\n",
    "        \n",
    "    def forward(self, x: torch.Tensor, init_states: Optional[Tuple[torch.Tensor, torch.Tensor]]=None\n",
    "               ) -> Tuple[torch.Tensor, Tuple[torch.Tensor, torch.Tensor]]:\n",
    "        # x: (batch, sequence, feature)\n",
    "        bs, seq_sz, _ = x.size()\n",
    "        hidden_seq = []\n",
    "        if init_states is None:\n",
    "            h_t, c_t = torch.zeros(self.hidden_size).to(x.device), torch.zeros(self.hidden_size).to(x.device)\n",
    "        else:\n",
    "            h_t, c_t = init_states\n",
    "        for t in range(seq_sz): # iterate over the time steps\n",
    "            x_t = x[:, t, :]\n",
    "            i_t = torch.sigmoid(x_t @ self.W_ii + h_t @ self.W_hi + self.b_i)\n",
    "            f_t = torch.sigmoid(x_t @ self.W_if + h_t @ self.W_hf + self.b_f)\n",
    "            g_t = torch.tanh(x_t @ self.W_ig + h_t @ self.W_hg + self.b_g)\n",
    "            o_t = torch.sigmoid(x_t @ self.W_io + h_t @ self.W_ho + self.b_o)\n",
    "            c_t = f_t * c_t + i_t * g_t\n",
    "            h_t = o_t * torch.tanh(c_t)\n",
    "            hidden_seq.append(h_t.unsqueeze(Dim.batch))\n",
    "        hidden_seq = torch.cat(hidden_seq, dim=Dim.batch)\n",
    "        # reshape from shape (sequence, batch, feature) to (batch, sequence, feature)\n",
    "        hidden_seq = hidden_seq.transpose(Dim.batch, Dim.seq).contiguous()\n",
    "        return hidden_seq, (h_t, c_t)"
   ]
  },
  {
   "cell_type": "code",
   "execution_count": 6,
   "metadata": {},
   "outputs": [
    {
     "data": {
      "text/plain": [
       "torch.Size([5, 10, 16])"
      ]
     },
     "execution_count": 6,
     "metadata": {},
     "output_type": "execute_result"
    }
   ],
   "source": [
    "# Double Checking\n",
    "bs, seq_len, feat_sz, hidden_sz = 5, 10, 32, 16\n",
    "arr = torch.randn(bs, seq_len, feat_sz)\n",
    "lstm = NaiveLSTM(feat_sz, hidden_sz)\n",
    "hs, (hn, cn) = lstm(arr)\n",
    "hs.shape"
   ]
  },
  {
   "cell_type": "code",
   "execution_count": 7,
   "metadata": {},
   "outputs": [],
   "source": [
    "class OptimizedLSTM(nn.Module):\n",
    "    def __init__(self, input_sz: int, hidden_sz: int):\n",
    "        super().__init__()\n",
    "        self.input_sz = input_sz\n",
    "        self.hidden_size = hidden_sz\n",
    "        self.weight_ih = Parameter(torch.Tensor(input_sz, hidden_sz * 4))\n",
    "        self.weight_hh = Parameter(torch.Tensor(hidden_sz, hidden_sz * 4))\n",
    "        self.bias = Parameter(torch.Tensor(hidden_sz * 4))\n",
    "        self.init_weights()\n",
    "    \n",
    "    def init_weights(self):\n",
    "        for p in self.parameters():\n",
    "            if p.data.ndimension() >= 2:\n",
    "                nn.init.xavier_uniform_(p.data)\n",
    "            else:\n",
    "                nn.init.zeros_(p.data)\n",
    "        \n",
    "    def forward(self, x: torch.Tensor, \n",
    "                init_states: Optional[Tuple[torch.Tensor]]=None\n",
    "               ) -> Tuple[torch.Tensor, Tuple[torch.Tensor, torch.Tensor]]:\n",
    "        # x: (batch, sequence, feature)\n",
    "        bs, seq_sz, _ = x.size()\n",
    "        hidden_seq = []\n",
    "        if init_states is None:\n",
    "            h_t, c_t = (torch.zeros(self.hidden_size).to(x.device), \n",
    "                        torch.zeros(self.hidden_size).to(x.device))\n",
    "        else:\n",
    "            h_t, c_t = init_states\n",
    "        \n",
    "        HS = self.hidden_size\n",
    "        for t in range(seq_sz):\n",
    "            x_t = x[:, t, :]\n",
    "            # batch the computations into a single matrix multiplication\n",
    "            gates = x_t @ self.weight_ih + h_t @ self.weight_hh + self.bias\n",
    "            i_t, f_t, g_t, o_t = (\n",
    "                torch.sigmoid(gates[:, :HS]), # input\n",
    "                torch.sigmoid(gates[:, HS:HS*2]), # forget\n",
    "                torch.tanh(gates[:, HS*2:HS*3]), # reset\n",
    "                torch.sigmoid(gates[:, HS*3:]), # output\n",
    "            )\n",
    "            c_t = f_t * c_t + i_t * g_t\n",
    "            h_t = o_t * torch.tanh(c_t)\n",
    "            hidden_seq.append(h_t.unsqueeze(Dim.batch))\n",
    "        hidden_seq = torch.cat(hidden_seq, dim=Dim.batch)\n",
    "        # reshape from shape (sequence, batch, feature) to (batch, sequence, feature)\n",
    "        hidden_seq = hidden_seq.transpose(Dim.batch, Dim.seq).contiguous()\n",
    "        return hidden_seq, (h_t, c_t)"
   ]
  },
  {
   "cell_type": "code",
   "execution_count": 8,
   "metadata": {},
   "outputs": [
    {
     "data": {
      "text/plain": [
       "torch.Size([5, 10, 16])"
      ]
     },
     "execution_count": 8,
     "metadata": {},
     "output_type": "execute_result"
    }
   ],
   "source": [
    "# Double Checking\n",
    "bs, seq_len, feat_sz, hidden_sz = 5, 10, 32, 16\n",
    "arr = torch.randn(bs, seq_len, feat_sz)\n",
    "lstm = OptimizedLSTM(feat_sz, hidden_sz)\n",
    "hs, (hn, cn) = lstm(arr)\n",
    "hs.shape"
   ]
  },
  {
   "cell_type": "markdown",
   "metadata": {},
   "source": [
    "## Toy examples"
   ]
  },
  {
   "cell_type": "code",
   "execution_count": 9,
   "metadata": {},
   "outputs": [
    {
     "name": "stderr",
     "output_type": "stream",
     "text": [
      "/Users/duytinvo/anaconda3/envs/huggingface/lib/python3.6/site-packages/sklearn/utils/linear_assignment_.py:21: DeprecationWarning: The linear_assignment_ module is deprecated in 0.21 and will be removed from 0.23. Use scipy.optimize.linear_sum_assignment instead.\n",
      "  DeprecationWarning)\n",
      "0it [00:00, ?it/s]\n",
      "  0%|          | 0/11994 [00:00<?, ?it/s]\u001b[A\n",
      " 36%|███▌      | 4290/11994 [00:00<00:00, 41240.23it/s]\u001b[A\n",
      " 86%|████████▌ | 10272/11994 [00:00<00:00, 45476.84it/s]\u001b[A\n",
      "11994it [00:11, 1059.70it/s] [00:00<00:00, 39715.88it/s]\u001b[A\n",
      "100%|██████████| 10794/10794 [00:05<00:00, 2033.04it/s]\n"
     ]
    }
   ],
   "source": [
    "from allennlp.data.dataset_readers import LanguageModelingReader\n",
    "from allennlp.data.tokenizers import CharacterTokenizer\n",
    "from allennlp.data.token_indexers import SingleIdTokenIndexer\n",
    "from allennlp.data import Vocabulary\n",
    "from allennlp.data.iterators import BasicIterator\n",
    "from allennlp.training import Trainer\n",
    "from sklearn.model_selection import train_test_split\n",
    "\n",
    "DATA_ROOT = Path(\"./data/brown\")\n",
    "# !mkdir -p {DATA_ROOT}\n",
    "# !curl http://www.sls.hawaii.edu/bley-vroman/brown.txt -o {DATA_ROOT / \"brown.txt\"}\n",
    "    \n",
    "char_tokenizer = CharacterTokenizer(lowercase_characters=True)\n",
    "\n",
    "reader = LanguageModelingReader(tokens_per_instance=500,\n",
    "                                tokenizer=char_tokenizer,\n",
    "                                token_indexers = {\"tokens\": SingleIdTokenIndexer()},)\n",
    "\n",
    "train_ds = reader.read(DATA_ROOT / \"brown.txt\")\n",
    "train_ds, val_ds = train_test_split(train_ds, random_state=0, test_size=0.1)\n",
    "\n",
    "vocab = Vocabulary.from_instances(train_ds)\n",
    "\n",
    "iterator = BasicIterator(batch_size=32)\n",
    "iterator.index_with(vocab)\n",
    "\n",
    "def train(model: nn.Module, epochs: int=10):\n",
    "    trainer = Trainer(\n",
    "        model=model.cuda() if torch.cuda.is_available() else model,\n",
    "        optimizer=optim.Adam(model.parameters()),\n",
    "        iterator=iterator, train_dataset=train_ds, \n",
    "        validation_dataset=val_ds, num_epochs=epochs,\n",
    "        cuda_device=0 if torch.cuda.is_available() else -1\n",
    "    )\n",
    "    return trainer.train()"
   ]
  },
  {
   "cell_type": "code",
   "execution_count": 10,
   "metadata": {},
   "outputs": [],
   "source": [
    "from allennlp.modules.seq2seq_encoders import PytorchSeq2SeqWrapper\n",
    "from allennlp.modules.token_embedders import Embedding\n",
    "from allennlp.modules.text_field_embedders import BasicTextFieldEmbedder\n",
    "from allennlp.models import Model\n",
    "from allennlp.nn.util import get_text_field_mask\n",
    "\n",
    "class LanguageModel(Model):\n",
    "    def __init__(self, encoder: nn.RNN, vocab: Vocabulary,\n",
    "                 embedding_dim: int=50):\n",
    "        super().__init__(vocab=vocab)\n",
    "        # char embedding\n",
    "        self.vocab_size = vocab.get_vocab_size()\n",
    "        self.padding_idx = vocab.get_token_index(\"@@PADDING@@\")\n",
    "        token_embedding = Embedding(\n",
    "            num_embeddings=vocab.get_vocab_size(),\n",
    "            embedding_dim=embedding_dim,\n",
    "            padding_index=self.padding_idx,\n",
    "        )\n",
    "        self.embedding = BasicTextFieldEmbedder({\"tokens\": token_embedding})\n",
    "        self.encoder = encoder\n",
    "        self.projection = nn.Linear(self.encoder.hidden_size, self.vocab_size)\n",
    "        self.loss = nn.CrossEntropyLoss(ignore_index=self.padding_idx)\n",
    "    \n",
    "    def forward(self, input_tokens: Dict[str, torch.Tensor],\n",
    "                output_tokens: Dict[str, torch.Tensor]):\n",
    "        # TODO: Implement\n",
    "        embs = self.embedding(input_tokens)\n",
    "        x, _ = self.encoder(embs)\n",
    "        x = self.projection(x)\n",
    "        if output_tokens is not None:\n",
    "            loss = self.loss(x.view((-1, self.vocab_size)), output_tokens[\"tokens\"].flatten())\n",
    "        else:\n",
    "            loss = None\n",
    "        return {\"loss\": loss, \"logits\": x}"
   ]
  },
  {
   "cell_type": "code",
   "execution_count": 11,
   "metadata": {},
   "outputs": [
    {
     "name": "stderr",
     "output_type": "stream",
     "text": [
      "You provided a validation dataset but patience was set to None, meaning that early stopping is disabled\n",
      "loss: 2.7032 ||: 100%|██████████| 338/338 [06:05<00:00,  1.23it/s]\n",
      "loss: 2.3313 ||: 100%|██████████| 38/38 [00:08<00:00,  3.30it/s]\n"
     ]
    },
    {
     "data": {
      "text/plain": [
       "{'training_duration': '00:06:14',\n",
       " 'training_start_epoch': 0,\n",
       " 'training_epochs': 0,\n",
       " 'epoch': 0,\n",
       " 'training_loss': 2.7032209980417283,\n",
       " 'validation_loss': 2.331299712783412,\n",
       " 'best_epoch': 0,\n",
       " 'best_validation_loss': 2.331299712783412}"
      ]
     },
     "execution_count": 11,
     "metadata": {},
     "output_type": "execute_result"
    }
   ],
   "source": [
    "N_EPOCHS = 1\n",
    "lm_naive = LanguageModel(NaiveLSTM(50, 125), vocab)\n",
    "train(lm_naive, epochs=N_EPOCHS)"
   ]
  },
  {
   "cell_type": "code",
   "execution_count": 12,
   "metadata": {},
   "outputs": [
    {
     "name": "stderr",
     "output_type": "stream",
     "text": [
      "You provided a validation dataset but patience was set to None, meaning that early stopping is disabled\n",
      "loss: 2.6878 ||: 100%|██████████| 338/338 [04:45<00:00,  1.45it/s]\n",
      "loss: 2.3062 ||: 100%|██████████| 38/38 [00:05<00:00,  7.85it/s]\n"
     ]
    },
    {
     "data": {
      "text/plain": [
       "{'training_duration': '00:04:51',\n",
       " 'training_start_epoch': 0,\n",
       " 'training_epochs': 0,\n",
       " 'epoch': 0,\n",
       " 'training_loss': 2.6878092352455183,\n",
       " 'validation_loss': 2.306226366444638,\n",
       " 'best_epoch': 0,\n",
       " 'best_validation_loss': 2.306226366444638}"
      ]
     },
     "execution_count": 12,
     "metadata": {},
     "output_type": "execute_result"
    }
   ],
   "source": [
    "N_EPOCHS = 1\n",
    "lm_comparison = LanguageModel(nn.LSTM(50, 125, batch_first=True), vocab)\n",
    "train(lm_comparison, epochs=N_EPOCHS)"
   ]
  },
  {
   "cell_type": "code",
   "execution_count": 13,
   "metadata": {},
   "outputs": [
    {
     "name": "stderr",
     "output_type": "stream",
     "text": [
      "You provided a validation dataset but patience was set to None, meaning that early stopping is disabled\n",
      "loss: 2.5823 ||: 100%|██████████| 338/338 [03:39<00:00,  1.86it/s]\n",
      "loss: 2.2216 ||: 100%|██████████| 38/38 [00:02<00:00, 14.90it/s]\n"
     ]
    },
    {
     "data": {
      "text/plain": [
       "{'training_duration': '00:03:42',\n",
       " 'training_start_epoch': 0,\n",
       " 'training_epochs': 0,\n",
       " 'epoch': 0,\n",
       " 'training_loss': 2.582280410817389,\n",
       " 'validation_loss': 2.221608368973983,\n",
       " 'best_epoch': 0,\n",
       " 'best_validation_loss': 2.221608368973983}"
      ]
     },
     "execution_count": 13,
     "metadata": {},
     "output_type": "execute_result"
    }
   ],
   "source": [
    "N_EPOCHS = 1\n",
    "lm_simplernn = LanguageModel(SimpleRNN(50, 125), vocab)\n",
    "train(lm_simplernn, epochs=N_EPOCHS)"
   ]
  },
  {
   "cell_type": "code",
   "execution_count": 14,
   "metadata": {},
   "outputs": [
    {
     "name": "stderr",
     "output_type": "stream",
     "text": [
      "You provided a validation dataset but patience was set to None, meaning that early stopping is disabled\n",
      "loss: 2.7547 ||: 100%|██████████| 338/338 [04:42<00:00,  1.52it/s]\n",
      "loss: 2.3768 ||: 100%|██████████| 38/38 [00:05<00:00,  7.21it/s]\n"
     ]
    },
    {
     "data": {
      "text/plain": [
       "{'training_duration': '00:04:47',\n",
       " 'training_start_epoch': 0,\n",
       " 'training_epochs': 0,\n",
       " 'epoch': 0,\n",
       " 'training_loss': 2.7547204106517094,\n",
       " 'validation_loss': 2.376791088204635,\n",
       " 'best_epoch': 0,\n",
       " 'best_validation_loss': 2.376791088204635}"
      ]
     },
     "execution_count": 14,
     "metadata": {},
     "output_type": "execute_result"
    }
   ],
   "source": [
    "N_EPOCHS = 1\n",
    "lm_optimized = LanguageModel(OptimizedLSTM(50, 125), vocab)\n",
    "train(lm_optimized, epochs=N_EPOCHS)"
   ]
  },
  {
   "cell_type": "markdown",
   "metadata": {},
   "source": [
    "## Gradients decay in RNN vs LSTM"
   ]
  },
  {
   "cell_type": "code",
   "execution_count": 17,
   "metadata": {},
   "outputs": [],
   "source": [
    "import matplotlib.pyplot as plt\n",
    "%matplotlib inline"
   ]
  },
  {
   "cell_type": "code",
   "execution_count": 18,
   "metadata": {},
   "outputs": [],
   "source": [
    "test_batch = next(iterator(train_ds))\n",
    "test_embeddings = lm_naive.embedding(test_batch[\"input_tokens\"])"
   ]
  },
  {
   "cell_type": "code",
   "execution_count": 19,
   "metadata": {},
   "outputs": [],
   "source": [
    "rnn = SimpleRNN(50, 125)\n",
    "def rnn_step(x_t, h_t, weight_ih, weight_hh, bias_hh):\n",
    "    return torch.tanh(x_t @ weight_ih + h_t @ weight_hh + bias_hh)"
   ]
  },
  {
   "cell_type": "code",
   "execution_count": 20,
   "metadata": {},
   "outputs": [],
   "source": [
    "h_0 = torch.zeros(rnn.hidden_size, requires_grad=True).to(test_embeddings.device)\n",
    "h_t = h_0\n",
    "grads = []\n",
    "\n",
    "for t in range(100):\n",
    "    h_t = rnn_step(\n",
    "        test_embeddings[:, t, :], h_t,\n",
    "        rnn.weight_ih, rnn.weight_hh, rnn.bias_hh,\n",
    "    )\n",
    "    loss = h_t.abs().sum() # we'll use the l1 norm of the current hidden state as the loss\n",
    "    loss.backward(retain_graph=True)\n",
    "    grads.append(torch.norm(h_0.grad).item())\n",
    "    h_0.grad.zero_()"
   ]
  },
  {
   "cell_type": "code",
   "execution_count": 21,
   "metadata": {},
   "outputs": [
    {
     "data": {
      "text/plain": [
       "[<matplotlib.lines.Line2D at 0x12df3b7f0>]"
      ]
     },
     "execution_count": 21,
     "metadata": {},
     "output_type": "execute_result"
    },
    {
     "data": {
      "image/png": "[encoded data removed]",
      "text/plain": [
       "<Figure size 432x288 with 1 Axes>"
      ]
     },
     "metadata": {
      "needs_background": "light"
     },
     "output_type": "display_data"
    }
   ],
   "source": [
    "plt.plot(grads)"
   ]
  },
  {
   "cell_type": "code",
   "execution_count": 22,
   "metadata": {},
   "outputs": [],
   "source": [
    "lstm = NaiveLSTM(50, 125)\n",
    "hidden_size = lstm.hidden_size\n",
    "\n",
    "def lstm_step(x_t, h_t, c_t, W_ii, W_hi, b_i, W_if, W_hf, b_f,\n",
    "              W_ig, W_hg, b_g, W_io, W_ho, b_o, use_forget_gate=False):\n",
    "    i_t = torch.sigmoid(x_t @ W_ii + h_t @ W_hi + lstm.b_i)\n",
    "    if use_forget_gate:\n",
    "        f_t = torch.sigmoid(x_t @ W_if + h_t @ W_hf + lstm.b_f)\n",
    "    g_t = torch.tanh(x_t @ W_ig + h_t @ W_hg + lstm.b_g)\n",
    "    o_t = torch.sigmoid(x_t @ W_io + h_t @ W_ho + lstm.b_o)\n",
    "    if use_forget_gate:\n",
    "        c_t = f_t * c_t + i_t * g_t\n",
    "    else:\n",
    "        c_t = c_t + i_t * g_t\n",
    "    h_t = o_t * torch.tanh(c_t)\n",
    "    return h_t, c_t"
   ]
  },
  {
   "cell_type": "code",
   "execution_count": 23,
   "metadata": {},
   "outputs": [],
   "source": [
    "# generate \n",
    "h_0, c_0 = (torch.zeros(hidden_size, requires_grad=True), \n",
    "            torch.zeros(hidden_size, requires_grad=True))\n",
    "grads = []\n",
    "h_t, c_t = h_0, c_0\n",
    "for t in range(100):\n",
    "    h_t, c_t = lstm_step(\n",
    "        test_embeddings[:, t, :], h_t, c_t,\n",
    "        lstm.W_ii, lstm.W_hi, lstm.b_i,\n",
    "        lstm.W_if, lstm.W_hf, lstm.b_f,\n",
    "        lstm.W_ig, lstm.W_hg, lstm.b_g,\n",
    "        lstm.W_io, lstm.W_ho, lstm.b_o,\n",
    "        use_forget_gate=False,\n",
    "    )\n",
    "    loss = h_t.abs().sum()\n",
    "    loss.backward(retain_graph=True)\n",
    "    grads.append(torch.norm(h_0.grad).item())\n",
    "    h_0.grad.zero_()\n",
    "    lstm.zero_grad()"
   ]
  },
  {
   "cell_type": "code",
   "execution_count": 24,
   "metadata": {},
   "outputs": [
    {
     "data": {
      "text/plain": [
       "[<matplotlib.lines.Line2D at 0x12e045710>]"
      ]
     },
     "execution_count": 24,
     "metadata": {},
     "output_type": "execute_result"
    },
    {
     "data": {
      "image/png": "[encoded data removed]",
      "text/plain": [
       "<Figure size 432x288 with 1 Axes>"
      ]
     },
     "metadata": {
      "needs_background": "light"
     },
     "output_type": "display_data"
    }
   ],
   "source": [
    "plt.plot(grads)"
   ]
  },
  {
   "cell_type": "code",
   "execution_count": 25,
   "metadata": {},
   "outputs": [],
   "source": [
    "lstm.b_f.data = torch.ones_like(lstm.b_f.data)\n",
    "\n",
    "\n",
    "# generate \n",
    "h_0, c_0 = (torch.zeros(hidden_size, requires_grad=True), \n",
    "            torch.zeros(hidden_size, requires_grad=True))\n",
    "grads = []\n",
    "h_t, c_t = h_0, c_0\n",
    "for t in range(100):\n",
    "    h_t, c_t = lstm_step(\n",
    "        test_embeddings[:, t, :], h_t, c_t,\n",
    "        lstm.W_ii, lstm.W_hi, lstm.b_i,\n",
    "        lstm.W_if, lstm.W_hf, lstm.b_f,\n",
    "        lstm.W_ig, lstm.W_hg, lstm.b_g,\n",
    "        lstm.W_io, lstm.W_ho, lstm.b_o,\n",
    "        use_forget_gate=True,\n",
    "    )\n",
    "    loss = h_t.abs().sum()\n",
    "    loss.backward(retain_graph=True)\n",
    "    grads.append(torch.norm(h_0.grad).item())\n",
    "    h_0.grad.zero_()"
   ]
  },
  {
   "cell_type": "code",
   "execution_count": 26,
   "metadata": {},
   "outputs": [
    {
     "data": {
      "text/plain": [
       "[<matplotlib.lines.Line2D at 0x12df733c8>]"
      ]
     },
     "execution_count": 26,
     "metadata": {},
     "output_type": "execute_result"
    },
    {
     "data": {
      "image/png": "[encoded data removed]",
      "text/plain": [
       "<Figure size 432x288 with 1 Axes>"
      ]
     },
     "metadata": {
      "needs_background": "light"
     },
     "output_type": "display_data"
    }
   ],
   "source": [
    "plt.plot(grads)"
   ]
  },
  {
   "cell_type": "code",
   "execution_count": 27,
   "metadata": {},
   "outputs": [],
   "source": [
    "lstm.b_f.data = torch.zeros_like(lstm.b_f.data)\n",
    "\n",
    "h_0, c_0 = (torch.zeros(hidden_size, requires_grad=True), \n",
    "            torch.zeros(hidden_size, requires_grad=True))\n",
    "grads = []\n",
    "h_t, c_t = h_0, c_0\n",
    "for t in range(100):\n",
    "    h_t, c_t = lstm_step(\n",
    "        test_embeddings[:, t, :], h_t, c_t,\n",
    "        lstm.W_ii, lstm.W_hi, lstm.b_i,\n",
    "        lstm.W_if, lstm.W_hf, lstm.b_f,\n",
    "        lstm.W_ig, lstm.W_hg, lstm.b_g,\n",
    "        lstm.W_io, lstm.W_ho, lstm.b_o,\n",
    "        use_forget_gate=True,\n",
    "    )\n",
    "    loss = h_t.abs().sum()\n",
    "    loss.backward(retain_graph=True)\n",
    "    grads.append(torch.norm(h_0.grad).item())\n",
    "    h_0.grad.zero_()"
   ]
  },
  {
   "cell_type": "code",
   "execution_count": 28,
   "metadata": {},
   "outputs": [
    {
     "data": {
      "text/plain": [
       "[<matplotlib.lines.Line2D at 0x12f0f2898>]"
      ]
     },
     "execution_count": 28,
     "metadata": {},
     "output_type": "execute_result"
    },
    {
     "data": {
      "image/png": "[encoded data removed]",
      "text/plain": [
       "<Figure size 432x288 with 1 Axes>"
      ]
     },
     "metadata": {
      "needs_background": "light"
     },
     "output_type": "display_data"
    }
   ],
   "source": [
    "plt.plot(grads)"
   ]
  },
  {
   "cell_type": "code",
   "execution_count": 29,
   "metadata": {},
   "outputs": [],
   "source": [
    "lstm.b_f.data = -torch.ones_like(lstm.b_f.data)\n",
    "\n",
    "# generate \n",
    "h_0, c_0 = (torch.zeros(hidden_size, requires_grad=True), \n",
    "            torch.zeros(hidden_size, requires_grad=True))\n",
    "grads = []\n",
    "h_t, c_t = h_0, c_0\n",
    "for t in range(100):\n",
    "    h_t, c_t = lstm_step(\n",
    "        test_embeddings[:, t, :], h_t, c_t,\n",
    "        lstm.W_ii, lstm.W_hi, lstm.b_i,\n",
    "        lstm.W_if, lstm.W_hf, lstm.b_f,\n",
    "        lstm.W_ig, lstm.W_hg, lstm.b_g,\n",
    "        lstm.W_io, lstm.W_ho, lstm.b_o,\n",
    "        use_forget_gate=True,\n",
    "    )\n",
    "    loss = h_t.abs().sum()\n",
    "    loss.backward(retain_graph=True)\n",
    "    grads.append(torch.norm(h_0.grad).item())\n",
    "    h_0.grad.zero_()"
   ]
  },
  {
   "cell_type": "code",
   "execution_count": 30,
   "metadata": {},
   "outputs": [
    {
     "data": {
      "text/plain": [
       "[<matplotlib.lines.Line2D at 0x12f7b0fd0>]"
      ]
     },
     "execution_count": 30,
     "metadata": {},
     "output_type": "execute_result"
    },
    {
     "data": {
      "image/png": "[encoded data removed]",
      "text/plain": [
       "<Figure size 432x288 with 1 Axes>"
      ]
     },
     "metadata": {
      "needs_background": "light"
     },
     "output_type": "display_data"
    }
   ],
   "source": [
    "plt.plot(grads)"
   ]
  },
  {
   "cell_type": "code",
   "execution_count": null,
   "metadata": {},
   "outputs": [],
   "source": []
  }
 ],
 "metadata": {
  "kernelspec": {
   "display_name": "Python 3",
   "language": "python",
   "name": "python3"
  },
  "language_info": {
   "codemirror_mode": {
    "name": "ipython",
    "version": 3
   },
   "file_extension": ".py",
   "mimetype": "text/x-python",
   "name": "python",
   "nbconvert_exporter": "python",
   "pygments_lexer": "ipython3",
   "version": "3.6.8"
  }
 },
 "nbformat": 4,
 "nbformat_minor": 2
}
